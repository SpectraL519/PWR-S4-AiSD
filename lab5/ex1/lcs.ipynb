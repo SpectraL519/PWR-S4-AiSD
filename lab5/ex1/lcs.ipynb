{
 "cells": [
  {
   "cell_type": "code",
   "execution_count": null,
   "metadata": {},
   "outputs": [],
   "source": [
    "import pandas as pd\n",
    "import numpy as np\n",
    "import matplotlib.pyplot as plt\n",
    "\n",
    "import subprocess"
   ]
  },
  {
   "cell_type": "code",
   "execution_count": null,
   "metadata": {},
   "outputs": [],
   "source": [
    "# Init the lcs.csv file\n",
    "df = pd.DataFrame(columns=['length', 'exec_time'])\n",
    "df.to_csv('lcs.csv', index=False)\n",
    "\n",
    "# Compile the lcs.cpp file\n",
    "subprocess.run('g++ -o lcs lcs.cpp -std=c++2a'.split())"
   ]
  },
  {
   "cell_type": "code",
   "execution_count": null,
   "metadata": {},
   "outputs": [],
   "source": [
    "# Run the experiments\n",
    "N = np.arange(1, 6) * 1000\n",
    "\n",
    "for n in N:\n",
    "    subprocess.run(f'./lcs {n}'.split())"
   ]
  },
  {
   "cell_type": "code",
   "execution_count": null,
   "metadata": {},
   "outputs": [],
   "source": [
    "# Plot the results\n",
    "df = pd.read_csv('lcs.csv')\n",
    "\n",
    "plt.figure(figsize=(7, 7))\n",
    "plt.title('lcs execution time')\n",
    "plt.xlabel('strings length')\n",
    "plt.ylabel('time (ms)')\n",
    "plt.plot(df['length'], df['exec_time'])\n",
    "plt.show()"
   ]
  }
 ],
 "metadata": {
  "kernelspec": {
   "display_name": "wsi",
   "language": "python",
   "name": "python3"
  },
  "language_info": {
   "codemirror_mode": {
    "name": "ipython",
    "version": 3
   },
   "file_extension": ".py",
   "mimetype": "text/x-python",
   "name": "python",
   "nbconvert_exporter": "python",
   "pygments_lexer": "ipython3",
   "version": "3.9.7"
  },
  "orig_nbformat": 4,
  "vscode": {
   "interpreter": {
    "hash": "abf4fd21ff549c7bb15312bb94b6d394d7412e55ba7502692d0235832299bcda"
   }
  }
 },
 "nbformat": 4,
 "nbformat_minor": 2
}
