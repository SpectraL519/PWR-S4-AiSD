{
 "cells": [
  {
   "cell_type": "code",
   "execution_count": null,
   "metadata": {},
   "outputs": [],
   "source": [
    "import numpy as np\n",
    "import pandas as pd\n",
    "import matplotlib.pyplot as plt\n",
    "\n",
    "import subprocess"
   ]
  },
  {
   "attachments": {},
   "cell_type": "markdown",
   "metadata": {},
   "source": [
    "## Utils"
   ]
  },
  {
   "cell_type": "code",
   "execution_count": null,
   "metadata": {},
   "outputs": [],
   "source": [
    "# lambdas\n",
    "file_name = lambda tree_type: f'results/{tree_type}.csv'\n",
    "get_result = lambda tree_type: pd.read_csv(file_name(tree_type))"
   ]
  },
  {
   "cell_type": "code",
   "execution_count": null,
   "metadata": {},
   "outputs": [],
   "source": [
    "# constant variables\n",
    "K = 20\n",
    "\n",
    "TREE_TYPES = ['bst', 'rb', 'splay']\n",
    "N_RANGE = np.arange(1, 11) * 10000\n",
    "GENERATE = ['ascending', 'random']"
   ]
  },
  {
   "cell_type": "code",
   "execution_count": null,
   "metadata": {},
   "outputs": [],
   "source": [
    "def execute(tree_type, n, generate):\n",
    "    subprocess.run(f'./trees -t {tree_type} -n {n} -g {generate}')\n",
    "v_execute = np.vectorize(execute)\n",
    "\n",
    "def run(tree_type, k):\n",
    "    for gen in GENERATE:\n",
    "        print(f'\\t-> {gen}')\n",
    "        for n in N_RANGE:\n",
    "            T = np.full(shape=(k,), fill_value=tree_type)\n",
    "            N = np.full(shape=(k,), fill_value=n)\n",
    "            G = np.full(shape=(k,), fill_value=gen)\n",
    "            v_execute(T, N, G)\n",
    "\n",
    "\n",
    "def process_result(df):\n",
    "    def _process_gen(df_gen, case):\n",
    "        df_gen = df_gen[df_gen['case'] == case]\n",
    "        df_cmp = pd.DataFrame(df_gen.groupby('n', as_index=False)['comparisons'].mean())\n",
    "        df_ptr = pd.DataFrame(df_gen.groupby('n', as_index=False)['ptr_ops'].mean())\n",
    "        df_h = pd.DataFrame(df_gen.groupby('n', as_index=False)['height'].mean())\n",
    "        df_gen = df_cmp.merge(df_ptr, on='n', how='left').merge(df_h, on='n', how='left')\n",
    "        return df_gen\n",
    "\n",
    "    df_asc = df[df['gen'] == 'ascending']\n",
    "    df_rand = df[df['gen'] == 'random']\n",
    "\n",
    "    return {\n",
    "        'asc_avg': {\n",
    "            'name': 'gen = ascending, case = avg',\n",
    "            'df': _process_gen(df_asc, 'avg')\n",
    "        },\n",
    "        'asc_worst': {\n",
    "            'name': 'gen = ascending, case = worst',\n",
    "            'df': _process_gen(df_asc, 'worst')\n",
    "        },\n",
    "        'rand_avg': {\n",
    "            'name': 'gen = random, case = avg',\n",
    "            'df': _process_gen(df_rand, 'avg')\n",
    "        },\n",
    "        'rand_worst': {\n",
    "            'name': 'gen = random, case = worst',\n",
    "            'df': _process_gen(df_rand, 'worst')\n",
    "        }\n",
    "    }\n",
    "\n",
    "\n",
    "\n",
    "def plot_results(results: dict):\n",
    "    fig = plt.figure(figsize=(16, 10))\n",
    "    axs = [plt.subplot2grid((4,3), (i % 4, int(i / 4)), colspan=1, rowspan=1) for i in range(12)]\n",
    "    plt.subplots_adjust(hspace=0.2, wspace=0.25)\n",
    "\n",
    "    axs[0].set_title(\"Comparison count\")\n",
    "    axs[4].set_title(\"Pointer operation count\")\n",
    "    axs[8].set_title(\"Tree height\")\n",
    "\n",
    "    axs[0].set_ylabel(\"Gen - asc; case - avg\")\n",
    "    axs[1].set_ylabel(\"Gen - asc; case - worst\")\n",
    "    axs[2].set_ylabel(\"Gen - rand; case - avg\")\n",
    "    axs[3].set_ylabel(\"Gen - rand; case - worst\")\n",
    "\n",
    "\n",
    "    colors = ['blue', 'red', 'green', 'orange', 'purple']\n",
    "    for (i, (tree, res_dict)) in enumerate(results.items()):\n",
    "        axs[0].plot(\n",
    "            res_dict['asc_avg']['df']['n'], \n",
    "            res_dict['asc_avg']['df']['comparisons'],\n",
    "            color=colors[i], linestyle='-', label=tree\n",
    "        )\n",
    "        axs[1].plot(\n",
    "            res_dict['asc_worst']['df']['n'], \n",
    "            res_dict['asc_worst']['df']['comparisons'],\n",
    "            color=colors[i], linestyle=':', label=tree\n",
    "        )\n",
    "        axs[2].plot(\n",
    "            res_dict['rand_avg']['df']['n'], \n",
    "            res_dict['rand_avg']['df']['comparisons'],\n",
    "            color=colors[i], linestyle='-', label=tree\n",
    "        )\n",
    "        axs[3].plot(\n",
    "            res_dict['rand_worst']['df']['n'], \n",
    "            res_dict['rand_worst']['df']['comparisons'],\n",
    "            color=colors[i], linestyle=':', label=tree\n",
    "        )\n",
    "\n",
    "        axs[4].plot(\n",
    "            res_dict['asc_avg']['df']['n'], \n",
    "            res_dict['asc_avg']['df']['ptr_ops'],\n",
    "            color=colors[i], linestyle='-', label=tree\n",
    "        )\n",
    "        axs[5].plot(\n",
    "            res_dict['asc_worst']['df']['n'], \n",
    "            res_dict['asc_worst']['df']['ptr_ops'],\n",
    "            color=colors[i], linestyle=':', label=tree\n",
    "        )\n",
    "        axs[6].plot(\n",
    "            res_dict['rand_avg']['df']['n'], \n",
    "            res_dict['rand_avg']['df']['ptr_ops'],\n",
    "            color=colors[i], linestyle='-', label=tree\n",
    "        )\n",
    "        axs[7].plot(\n",
    "            res_dict['rand_worst']['df']['n'], \n",
    "            res_dict['rand_worst']['df']['ptr_ops'],\n",
    "            color=colors[i], linestyle=':', label=tree\n",
    "        )\n",
    "\n",
    "        axs[8].plot(\n",
    "            res_dict['asc_avg']['df']['n'], \n",
    "            res_dict['asc_avg']['df']['height'],\n",
    "            color=colors[i], linestyle='-', label=tree\n",
    "        )\n",
    "        axs[9].plot(\n",
    "            res_dict['asc_worst']['df']['n'], \n",
    "            res_dict['asc_worst']['df']['height'],\n",
    "            color=colors[i], linestyle=':', label=tree\n",
    "        )\n",
    "        axs[10].plot(\n",
    "            res_dict['rand_avg']['df']['n'], \n",
    "            res_dict['rand_avg']['df']['height'],\n",
    "            color=colors[i], linestyle='-', label=tree\n",
    "        )\n",
    "        axs[11].plot(\n",
    "            res_dict['rand_worst']['df']['n'], \n",
    "            res_dict['rand_worst']['df']['height'],\n",
    "            color=colors[i], linestyle=':', label=tree\n",
    "        )\n",
    "\n",
    "    for i in range(len(axs)):\n",
    "        axs[i].set_xlabel(\"$n$ - tree size\")\n",
    "        axs[i].legend(loc=2)\n",
    "\n",
    "    plt.show();"
   ]
  },
  {
   "attachments": {},
   "cell_type": "markdown",
   "metadata": {},
   "source": [
    "## Init necessary files"
   ]
  },
  {
   "cell_type": "code",
   "execution_count": null,
   "metadata": {},
   "outputs": [],
   "source": [
    "# Init result .csv files\n",
    "for type in TREE_TYPES:\n",
    "    df = pd.DataFrame(columns=['n', 'gen', 'case', 'comparisons', 'ptr_ops', 'height'])\n",
    "    df.to_csv(file_name(type), index=False)"
   ]
  },
  {
   "cell_type": "code",
   "execution_count": null,
   "metadata": {},
   "outputs": [],
   "source": [
    "subprocess.run('make clean'.split())\n",
    "subprocess.run('make all'.split())"
   ]
  },
  {
   "cell_type": "markdown",
   "metadata": {},
   "source": [
    "# Run experiments"
   ]
  },
  {
   "cell_type": "code",
   "execution_count": null,
   "metadata": {},
   "outputs": [],
   "source": [
    "print('executing:')\n",
    "for type in ['bst', 'splay', 'rb']:\n",
    "    print(f' -> {type}')\n",
    "    run(type, K)"
   ]
  },
  {
   "cell_type": "code",
   "execution_count": null,
   "metadata": {},
   "outputs": [],
   "source": [
    "results = {t: get_result(t) for t in TREE_TYPES}\n",
    "results = {t : process_result(results[t]) for t in results.keys()}"
   ]
  },
  {
   "cell_type": "code",
   "execution_count": null,
   "metadata": {},
   "outputs": [],
   "source": [
    "plot_results(results)"
   ]
  },
  {
   "cell_type": "code",
   "execution_count": null,
   "metadata": {},
   "outputs": [],
   "source": []
  }
 ],
 "metadata": {
  "kernelspec": {
   "display_name": "base",
   "language": "python",
   "name": "python3"
  },
  "language_info": {
   "codemirror_mode": {
    "name": "ipython",
    "version": 3
   },
   "file_extension": ".py",
   "mimetype": "text/x-python",
   "name": "python",
   "nbconvert_exporter": "python",
   "pygments_lexer": "ipython3",
   "version": "3.9.13"
  },
  "orig_nbformat": 4,
  "vscode": {
   "interpreter": {
    "hash": "050e96cf54a9790c28fa01ac902dee2e137ed4ba47f5d63bcb81bdd68655b6d9"
   }
  }
 },
 "nbformat": 4,
 "nbformat_minor": 2
}
