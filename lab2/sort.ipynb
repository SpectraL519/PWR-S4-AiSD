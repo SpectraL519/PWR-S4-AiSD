{
 "cells": [
  {
   "cell_type": "code",
   "execution_count": null,
   "metadata": {},
   "outputs": [],
   "source": [
    "import numpy as np\n",
    "import pandas as pd\n",
    "import matplotlib.pyplot as plt\n",
    "\n",
    "import subprocess"
   ]
  },
  {
   "attachments": {},
   "cell_type": "markdown",
   "metadata": {},
   "source": [
    "# Utils"
   ]
  },
  {
   "cell_type": "code",
   "execution_count": null,
   "metadata": {},
   "outputs": [],
   "source": [
    "# lambdas\n",
    "get_range = lambda delta: (np.arange(20) + 1) * delta\n",
    "file_name = lambda algorithm: f'results/{algorithm}.csv'\n",
    "get_result = lambda algorithm: pd.read_csv(file_name(algorithm))"
   ]
  },
  {
   "cell_type": "code",
   "execution_count": null,
   "metadata": {},
   "outputs": [],
   "source": [
    "# constant variables\n",
    "K = 50\n",
    "\n",
    "low = get_range(10)\n",
    "high = np.concatenate([get_range(10), get_range(1000)])\n",
    "ALGORITHMS_RANGES = {\n",
    "    'insert': low,\n",
    "    'merge': high,\n",
    "    'quick': high,\n",
    "    'dp_quick': high,\n",
    "    'tim': high\n",
    "}"
   ]
  },
  {
   "cell_type": "code",
   "execution_count": null,
   "metadata": {},
   "outputs": [],
   "source": [
    "def execute(algorithm, n):\n",
    "    generate = subprocess.Popen(f'./generate.exe {n} random'.split(), stdout=subprocess.PIPE)\n",
    "    subprocess.Popen(f'./sort.exe {algorithm}'.split(), stdin=generate.stdout, stdout=subprocess.PIPE)\n",
    "v_execute = np.vectorize(execute)\n",
    "\n",
    "def run(algorithm, k):\n",
    "    for n in ALGORITHMS_RANGES[algorithm]:\n",
    "        A = np.full(shape=(k,), fill_value=algorithm)\n",
    "        N = np.full(shape=(k,), fill_value=n)\n",
    "        v_execute(A, N)\n",
    "\n",
    "\n",
    "def process_result(df):\n",
    "    df_cmp = pd.DataFrame(df.groupby('array_size', as_index=False)['comparisons'].mean())\n",
    "    df_swp = pd.DataFrame(df.groupby('array_size', as_index=False)['swaps'].mean())\n",
    "    df = pd.merge(df_cmp, df_swp, on='array_size')\n",
    "    df['total'] = df['comparisons'] + df['swaps']\n",
    "    return df\n",
    "\n",
    "\n",
    "\n",
    "def plot_results(results: dict):\n",
    "    fig = plt.figure(figsize=(16, 10))\n",
    "    na = len(results) # number of sorting algorithms\n",
    "    axs = [plt.subplot2grid((2,3), (0,0), colspan=1, rowspan=1), \n",
    "           plt.subplot2grid((2,3), (0,1), colspan=1, rowspan=1),\n",
    "           plt.subplot2grid((2,3), (0,2), colspan=1, rowspan=1),\n",
    "           plt.subplot2grid((2,3), (1,0), colspan=1, rowspan=1), \n",
    "           plt.subplot2grid((2,3), (1,1), colspan=1, rowspan=1),\n",
    "           plt.subplot2grid((2,3), (1,2), colspan=1, rowspan=1)]\n",
    "    plt.subplots_adjust(hspace=0.2, wspace=0.25)\n",
    "\n",
    "    axs[0].set_title(f\"Comparison count\")\n",
    "    axs[1].set_title(f\"Swaps count\")\n",
    "    axs[2].set_title(f\"Total complexity\")\n",
    "\n",
    "    colors = ['blue', 'red', 'green', 'orange', 'purple']\n",
    "    for (i, (algorithm, df)) in enumerate(results.items()):\n",
    "        axs[0].plot(df['array_size'], df['comparisons'], color=colors[i], label=algorithm)\n",
    "        axs[1].plot(df['array_size'], df['swaps'], color=colors[i], label=algorithm)\n",
    "        axs[2].plot(df['array_size'], df['total'], color=colors[i], label=algorithm)\n",
    "        axs[3].plot(df.loc[:19, 'array_size'], df.loc[:19, 'comparisons'], color=colors[i], label=algorithm)\n",
    "        axs[4].plot(df.loc[:19, 'array_size'], df.loc[:19, 'swaps'], color=colors[i], label=algorithm)\n",
    "        axs[5].plot(df.loc[:19, 'array_size'], df.loc[:19, 'total'], color=colors[i], label=algorithm)\n",
    "\n",
    "\n",
    "    axs[0].set_ylabel(\"$cmp(n)$\")\n",
    "    axs[1].set_ylabel(\"$swp(n)$\")\n",
    "    axs[2].set_ylabel(\"$cmp(n) + swp(n)$\")\n",
    "    axs[3].set_ylabel(\"$cmp(n)$\")\n",
    "    axs[4].set_ylabel(\"$swp(n)$\")\n",
    "    axs[5].set_ylabel(\"$cmp(n) + swp(n)$\")\n",
    "\n",
    "    for i in range(len(axs)):\n",
    "        axs[i].set_xlabel(\"$n$ - array size\")\n",
    "        axs[i].legend()\n",
    "\n",
    "    plt.show();"
   ]
  },
  {
   "attachments": {},
   "cell_type": "markdown",
   "metadata": {},
   "source": [
    "# Init necessary files"
   ]
  },
  {
   "cell_type": "code",
   "execution_count": null,
   "metadata": {},
   "outputs": [],
   "source": [
    "# Init result .csv files\n",
    "for algorithm in ALGORITHMS_RANGES.keys():\n",
    "    df = pd.DataFrame(columns=['array_size', 'comparisons', 'swaps'])\n",
    "    df.to_csv(file_name(algorithm), index=False)"
   ]
  },
  {
   "cell_type": "code",
   "execution_count": null,
   "metadata": {},
   "outputs": [],
   "source": [
    "# Init .exe script files\n",
    "subprocess.run('g++ -o generate generate.cpp -std=c++2a'.split())\n",
    "subprocess.run('g++ -o sort main.cpp -std=c++2a'.split())"
   ]
  },
  {
   "cell_type": "markdown",
   "metadata": {},
   "source": [
    "# Run experiments"
   ]
  },
  {
   "cell_type": "code",
   "execution_count": null,
   "metadata": {},
   "outputs": [],
   "source": [
    "print('executing:')\n",
    "for algorithm in ALGORITHMS_RANGES.keys():\n",
    "    print(f' -> {algorithm}')\n",
    "    run(algorithm, K)"
   ]
  },
  {
   "cell_type": "code",
   "execution_count": null,
   "metadata": {},
   "outputs": [],
   "source": [
    "results = {a: get_result(a) for a in ALGORITHMS_RANGES.keys()}\n",
    "results = {a : process_result(results[a]) for a in results.keys()}"
   ]
  },
  {
   "cell_type": "code",
   "execution_count": null,
   "metadata": {},
   "outputs": [],
   "source": [
    "plot_results(results)"
   ]
  },
  {
   "cell_type": "code",
   "execution_count": null,
   "metadata": {},
   "outputs": [],
   "source": []
  }
 ],
 "metadata": {
  "kernelspec": {
   "display_name": "mpis",
   "language": "python",
   "name": "python3"
  },
  "language_info": {
   "codemirror_mode": {
    "name": "ipython",
    "version": 3
   },
   "file_extension": ".py",
   "mimetype": "text/x-python",
   "name": "python",
   "nbconvert_exporter": "python",
   "pygments_lexer": "ipython3",
   "version": "3.9.13 (main, Oct 13 2022, 21:23:06) [MSC v.1916 64 bit (AMD64)]"
  },
  "orig_nbformat": 4,
  "vscode": {
   "interpreter": {
    "hash": "e3f8b5698cd39ed39688f65de903fa661ec26daeb8af358b39b10c40871c006f"
   }
  }
 },
 "nbformat": 4,
 "nbformat_minor": 2
}
